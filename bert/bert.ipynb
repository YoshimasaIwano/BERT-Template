{
 "cells": [
  {
   "cell_type": "markdown",
   "id": "7f60b9e8",
   "metadata": {},
   "source": [
    "# *** Note that ***\n",
    "# To run this notebook, you need GPU"
   ]
  },
  {
   "cell_type": "code",
   "execution_count": 1,
   "id": "88d1a193",
   "metadata": {},
   "outputs": [],
   "source": [
    "import pandas as pd\n",
    "import matplotlib.pyplot as plt\n",
    "import seaborn as sns\n",
    "\n",
    "# preporcessing\n",
    "from preprocessing import cleaning\n",
    "from sklearn.model_selection import train_test_split\n",
    "\n",
    "# model\n",
    "from dataset import BertDataset\n",
    "from model import BERT\n",
    "from transformers import BertTokenizer\n",
    "import torch\n",
    "import torch.nn as nn\n",
    "from torch.utils.data import DataLoader\n",
    "import torch.optim as optim\n",
    "from loss import focal_loss\n",
    "\n",
    "# train and evaluate\n",
    "from utils import train_model, evaluation, train_submit_model, prediction\n",
    "\n",
    "# evaluating\n",
    "from sklearn.metrics import confusion_matrix, classification_report"
   ]
  },
  {
   "cell_type": "markdown",
   "id": "0c9f824f",
   "metadata": {},
   "source": [
    "# Import train and test data"
   ]
  },
  {
   "cell_type": "code",
   "execution_count": 2,
   "id": "af040e95",
   "metadata": {},
   "outputs": [],
   "source": [
    "# import data\n",
    "train = pd.read_csv(\"../data/train.csv\")\n",
    "test = pd.read_csv(\"../data/test.csv\")"
   ]
  },
  {
   "cell_type": "code",
   "execution_count": 3,
   "id": "ee5516ad",
   "metadata": {},
   "outputs": [
    {
     "name": "stdout",
     "output_type": "stream",
     "text": [
      "(1516, 3)\n",
      "(1517, 2)\n"
     ]
    }
   ],
   "source": [
    "# check data size\n",
    "print(train.shape)\n",
    "print(test.shape)"
   ]
  },
  {
   "cell_type": "code",
   "execution_count": 4,
   "id": "4fe757db",
   "metadata": {},
   "outputs": [
    {
     "data": {
      "text/html": [
       "<div>\n",
       "<style scoped>\n",
       "    .dataframe tbody tr th:only-of-type {\n",
       "        vertical-align: middle;\n",
       "    }\n",
       "\n",
       "    .dataframe tbody tr th {\n",
       "        vertical-align: top;\n",
       "    }\n",
       "\n",
       "    .dataframe thead th {\n",
       "        text-align: right;\n",
       "    }\n",
       "</style>\n",
       "<table border=\"1\" class=\"dataframe\">\n",
       "  <thead>\n",
       "    <tr style=\"text-align: right;\">\n",
       "      <th></th>\n",
       "      <th>id</th>\n",
       "      <th>description</th>\n",
       "      <th>jobflag</th>\n",
       "    </tr>\n",
       "  </thead>\n",
       "  <tbody>\n",
       "    <tr>\n",
       "      <th>0</th>\n",
       "      <td>0</td>\n",
       "      <td>&lt;li&gt;Develop cutting-edge web applications that...</td>\n",
       "      <td>3</td>\n",
       "    </tr>\n",
       "    <tr>\n",
       "      <th>1</th>\n",
       "      <td>1</td>\n",
       "      <td>&lt;li&gt; Designs and develops high quality, scalab...</td>\n",
       "      <td>3</td>\n",
       "    </tr>\n",
       "    <tr>\n",
       "      <th>2</th>\n",
       "      <td>2</td>\n",
       "      <td>&lt;li&gt;Functions as a point person for Network St...</td>\n",
       "      <td>4</td>\n",
       "    </tr>\n",
       "    <tr>\n",
       "      <th>3</th>\n",
       "      <td>3</td>\n",
       "      <td>&lt;li&gt; Work on the technical design, development...</td>\n",
       "      <td>3</td>\n",
       "    </tr>\n",
       "    <tr>\n",
       "      <th>4</th>\n",
       "      <td>4</td>\n",
       "      <td>&lt;li&gt;Quantify the resources required for a task...</td>\n",
       "      <td>4</td>\n",
       "    </tr>\n",
       "  </tbody>\n",
       "</table>\n",
       "</div>"
      ],
      "text/plain": [
       "   id                                        description  jobflag\n",
       "0   0  <li>Develop cutting-edge web applications that...        3\n",
       "1   1  <li> Designs and develops high quality, scalab...        3\n",
       "2   2  <li>Functions as a point person for Network St...        4\n",
       "3   3  <li> Work on the technical design, development...        3\n",
       "4   4  <li>Quantify the resources required for a task...        4"
      ]
     },
     "execution_count": 4,
     "metadata": {},
     "output_type": "execute_result"
    }
   ],
   "source": [
    "# check train data\n",
    "train.head()"
   ]
  },
  {
   "cell_type": "code",
   "execution_count": 5,
   "id": "56b86e62",
   "metadata": {},
   "outputs": [
    {
     "data": {
      "text/html": [
       "<div>\n",
       "<style scoped>\n",
       "    .dataframe tbody tr th:only-of-type {\n",
       "        vertical-align: middle;\n",
       "    }\n",
       "\n",
       "    .dataframe tbody tr th {\n",
       "        vertical-align: top;\n",
       "    }\n",
       "\n",
       "    .dataframe thead th {\n",
       "        text-align: right;\n",
       "    }\n",
       "</style>\n",
       "<table border=\"1\" class=\"dataframe\">\n",
       "  <thead>\n",
       "    <tr style=\"text-align: right;\">\n",
       "      <th></th>\n",
       "      <th>id</th>\n",
       "      <th>description</th>\n",
       "    </tr>\n",
       "  </thead>\n",
       "  <tbody>\n",
       "    <tr>\n",
       "      <th>0</th>\n",
       "      <td>1516</td>\n",
       "      <td>&lt;li&gt;Building decision-making models and propos...</td>\n",
       "    </tr>\n",
       "    <tr>\n",
       "      <th>1</th>\n",
       "      <td>1517</td>\n",
       "      <td>&lt;li&gt;Educate homeowners on the benefits of sola...</td>\n",
       "    </tr>\n",
       "    <tr>\n",
       "      <th>2</th>\n",
       "      <td>1518</td>\n",
       "      <td>&lt;li&gt;&lt;span&gt;Design, develop, document, and imple...</td>\n",
       "    </tr>\n",
       "    <tr>\n",
       "      <th>3</th>\n",
       "      <td>1519</td>\n",
       "      <td>&lt;li&gt;Apply advanced technical expertise and ski...</td>\n",
       "    </tr>\n",
       "    <tr>\n",
       "      <th>4</th>\n",
       "      <td>1520</td>\n",
       "      <td>&lt;li&gt;Project manage and deliver against our roa...</td>\n",
       "    </tr>\n",
       "  </tbody>\n",
       "</table>\n",
       "</div>"
      ],
      "text/plain": [
       "     id                                        description\n",
       "0  1516  <li>Building decision-making models and propos...\n",
       "1  1517  <li>Educate homeowners on the benefits of sola...\n",
       "2  1518  <li><span>Design, develop, document, and imple...\n",
       "3  1519  <li>Apply advanced technical expertise and ski...\n",
       "4  1520  <li>Project manage and deliver against our roa..."
      ]
     },
     "execution_count": 5,
     "metadata": {},
     "output_type": "execute_result"
    }
   ],
   "source": [
    "# check test data\n",
    "test.head()"
   ]
  },
  {
   "cell_type": "markdown",
   "id": "d9808462",
   "metadata": {},
   "source": [
    "# Preprocessing"
   ]
  },
  {
   "cell_type": "code",
   "execution_count": 6,
   "id": "943738ee",
   "metadata": {},
   "outputs": [],
   "source": [
    "# cleaninf description of both train and test data\n",
    "# delte html tag such as <li>\n",
    "\n",
    "cleaned_train = cleaning(train, training=True)\n",
    "cleaned_test = cleaning(test, training=False)"
   ]
  },
  {
   "cell_type": "code",
   "execution_count": 7,
   "id": "6cbb1e3d",
   "metadata": {},
   "outputs": [
    {
     "name": "stdout",
     "output_type": "stream",
     "text": [
      "#original\n",
      " <li>Develop cutting-edge web applications that perform superbly across all platforms.</li><li>Work in a highly collaborative environment with cross-functional teams on projects ranging from a few weeks to a few months in length.</li><li>Maintain high standard of quality as you creatively and strategically problem solve throughout the product delivery process.</li><li>Be able to effectively communicate your work with both technical and non-technical peers</li><li>Be excited about new web technologies/techniques</li><li>Build solid front-end architectures that integrate easily with other systems and technologies</li><li>Working closely with other disciplines (Back-end, UX, Design, QA)</li><li>Have a superior attention to detail and a strong ability to Q/A one\\'s own work required, including cross-browser and cross-platform displays and performance</li></ul>\n",
      "-----\n",
      "#cleaned\n",
      "  Develop cutting-edge web applications that perform superbly across all platforms. Work in a highly collaborative environment with cross-functional teams on projects ranging from a few weeks to a few months in length. Maintain high standard of quality as you creatively and strategically problem solve throughout the product delivery process. Be able to effectively communicate your work with both technical and non-technical peers Be excited about new web technologies/techniques Build solid front-end architectures that integrate easily with other systems and technologies Working closely with other disciplines (Back-end, UX, Design, QA) Have a superior attention to detail and a strong ability to Q/A one\\'s own work required, including cross-browser and cross-platform displays and performance \n"
     ]
    }
   ],
   "source": [
    "# check data after cleaning\n",
    "print('#original\\n', train['description'][0])\n",
    "print(\"-----\")\n",
    "print('#cleaned\\n', cleaned_train['description'][0])"
   ]
  },
  {
   "cell_type": "code",
   "execution_count": 8,
   "id": "a42ba452",
   "metadata": {},
   "outputs": [
    {
     "name": "stdout",
     "output_type": "stream",
     "text": [
      "(1516,)\n",
      "0    2\n",
      "1    2\n",
      "2    3\n",
      "3    2\n",
      "4    3\n",
      "Name: jobflag, dtype: int64\n"
     ]
    }
   ],
   "source": [
    "print(cleaned_train['description'].shape)\n",
    "print(cleaned_train['jobflag'].head())"
   ]
  },
  {
   "cell_type": "code",
   "execution_count": 9,
   "id": "718e101b",
   "metadata": {},
   "outputs": [],
   "source": [
    "# split train and validation data\n",
    "data_train, data_valid = train_test_split(cleaned_train, stratify=cleaned_train['jobflag'], test_size=0.3, random_state=0)"
   ]
  },
  {
   "cell_type": "markdown",
   "id": "9b9c64fb",
   "metadata": {},
   "source": [
    "# Model"
   ]
  },
  {
   "cell_type": "markdown",
   "id": "5a5afdf1",
   "metadata": {},
   "source": [
    "before using transformers, install transformers from huggingface  \n",
    "`conda install -c huggingface transformers`"
   ]
  },
  {
   "cell_type": "code",
   "execution_count": 10,
   "id": "05fbf9f5",
   "metadata": {},
   "outputs": [],
   "source": [
    "# hyper-parameters\n",
    "epochs = 5\n",
    "batch_size = 128\n",
    "max_length = 512"
   ]
  },
  {
   "cell_type": "code",
   "execution_count": 11,
   "id": "67da9ad9",
   "metadata": {},
   "outputs": [],
   "source": [
    "tokenizer = BertTokenizer.from_pretrained(\"bert-base-uncased\")"
   ]
  },
  {
   "cell_type": "code",
   "execution_count": 12,
   "id": "f86a108f",
   "metadata": {},
   "outputs": [],
   "source": [
    "train_dataset = BertDataset(data_train, tokenizer, max_length=max_length, training=True) \n",
    "train_dataloader = DataLoader(dataset=train_dataset, shuffle=True, batch_size=batch_size)"
   ]
  },
  {
   "cell_type": "code",
   "execution_count": 13,
   "id": "53478e4f",
   "metadata": {},
   "outputs": [],
   "source": [
    "valid_dataset = BertDataset(data_valid, tokenizer, max_length=max_length, training=True) \n",
    "valid_dataloader = DataLoader(dataset=valid_dataset, shuffle=True, batch_size=batch_size)"
   ]
  },
  {
   "cell_type": "markdown",
   "id": "93876eaa",
   "metadata": {},
   "source": [
    "# Loss function"
   ]
  },
  {
   "cell_type": "code",
   "execution_count": 14,
   "id": "bee50911",
   "metadata": {},
   "outputs": [
    {
     "name": "stdout",
     "output_type": "stream",
     "text": [
      "torch.Size([4])\n",
      "tensor([ 3.2393, 17.2273,  3.3319,  3.0020], device='cuda:0',\n",
      "       dtype=torch.float64)\n"
     ]
    }
   ],
   "source": [
    "# calculate alpha\n",
    "alpha = len(cleaned_train) / cleaned_train['jobflag'].value_counts()\n",
    "alpha = alpha.sort_index()\n",
    "device = torch.device(\"cuda:0\" if torch.cuda.is_available() else \"cpu\")\n",
    "alpha = torch.tensor(alpha, device=device)\n",
    "print(alpha.shape)\n",
    "print(alpha)"
   ]
  },
  {
   "cell_type": "code",
   "execution_count": 15,
   "id": "87e7975a",
   "metadata": {},
   "outputs": [
    {
     "name": "stderr",
     "output_type": "stream",
     "text": [
      "Some weights of the model checkpoint at bert-base-uncased were not used when initializing BertModel: ['cls.predictions.decoder.weight', 'cls.predictions.transform.dense.weight', 'cls.predictions.transform.LayerNorm.weight', 'cls.predictions.transform.LayerNorm.bias', 'cls.seq_relationship.weight', 'cls.predictions.bias', 'cls.seq_relationship.bias', 'cls.predictions.transform.dense.bias']\n",
      "- This IS expected if you are initializing BertModel from the checkpoint of a model trained on another task or with another architecture (e.g. initializing a BertForSequenceClassification model from a BertForPreTraining model).\n",
      "- This IS NOT expected if you are initializing BertModel from the checkpoint of a model that you expect to be exactly identical (initializing a BertForSequenceClassification model from a BertForSequenceClassification model).\n"
     ]
    }
   ],
   "source": [
    "model = BERT()\n",
    "loss_fn = nn.CrossEntropyLoss()\n",
    "# loss_fn = focal_loss(alpha=alpha, gamma=0.5, reduction=\"sum\") # default (gamma = 2.0)\n",
    "optimizer = optim.AdamW(model.parameters())"
   ]
  },
  {
   "cell_type": "code",
   "execution_count": 16,
   "id": "0c19587a",
   "metadata": {},
   "outputs": [],
   "source": [
    "# print(model)"
   ]
  },
  {
   "cell_type": "code",
   "execution_count": 17,
   "id": "be7ea0eb",
   "metadata": {},
   "outputs": [],
   "source": [
    "# if we don't want to re-train bert parameters (we want to train only the last layer)\n",
    "for param in model.bert.parameters():\n",
    "    param.requires_grad = False\n",
    "\n",
    "for param in model.bert.pooler.parameters():\n",
    "    param.requires_grad = True\n",
    "# print(model.bert.pooler.parameters())"
   ]
  },
  {
   "cell_type": "code",
   "execution_count": 18,
   "id": "33682f87",
   "metadata": {},
   "outputs": [
    {
     "name": "stdout",
     "output_type": "stream",
     "text": [
      "Epoch 1/5\n",
      "-----------------------------------\n"
     ]
    },
    {
     "name": "stderr",
     "output_type": "stream",
     "text": [
      "100%|█████████████████████████████████████████████████████████████████████████████████████| 9/9 [00:33<00:00,  3.74s/it]\n",
      "100%|█████████████████████████████████████████████████████████████████████████████████████| 4/4 [00:15<00:00,  3.76s/it]\n"
     ]
    },
    {
     "name": "stdout",
     "output_type": "stream",
     "text": [
      "Train Loss: 0.0110 Train Acc: 0.3949\n",
      "Valid Loss: 0.0107 Valid Acc: 0.5451\n",
      "Epoch 2/5\n",
      "-----------------------------------\n"
     ]
    },
    {
     "name": "stderr",
     "output_type": "stream",
     "text": [
      "100%|█████████████████████████████████████████████████████████████████████████████████████| 9/9 [00:34<00:00,  3.88s/it]\n",
      "100%|█████████████████████████████████████████████████████████████████████████████████████| 4/4 [00:14<00:00,  3.72s/it]\n"
     ]
    },
    {
     "name": "stdout",
     "output_type": "stream",
     "text": [
      "Train Loss: 0.0100 Train Acc: 0.5853\n",
      "Valid Loss: 0.0101 Valid Acc: 0.6110\n",
      "Epoch 3/5\n",
      "-----------------------------------\n"
     ]
    },
    {
     "name": "stderr",
     "output_type": "stream",
     "text": [
      "100%|█████████████████████████████████████████████████████████████████████████████████████| 9/9 [00:35<00:00,  3.90s/it]\n",
      "100%|█████████████████████████████████████████████████████████████████████████████████████| 4/4 [00:14<00:00,  3.74s/it]\n"
     ]
    },
    {
     "name": "stdout",
     "output_type": "stream",
     "text": [
      "Train Loss: 0.0094 Train Acc: 0.6428\n",
      "Valid Loss: 0.0098 Valid Acc: 0.6154\n",
      "Epoch 4/5\n",
      "-----------------------------------\n"
     ]
    },
    {
     "name": "stderr",
     "output_type": "stream",
     "text": [
      "100%|█████████████████████████████████████████████████████████████████████████████████████| 9/9 [00:34<00:00,  3.88s/it]\n",
      "100%|█████████████████████████████████████████████████████████████████████████████████████| 4/4 [00:14<00:00,  3.72s/it]\n"
     ]
    },
    {
     "name": "stdout",
     "output_type": "stream",
     "text": [
      "Train Loss: 0.0091 Train Acc: 0.6626\n",
      "Valid Loss: 0.0097 Valid Acc: 0.6440\n",
      "Epoch 5/5\n",
      "-----------------------------------\n"
     ]
    },
    {
     "name": "stderr",
     "output_type": "stream",
     "text": [
      "100%|█████████████████████████████████████████████████████████████████████████████████████| 9/9 [00:34<00:00,  3.88s/it]\n",
      "100%|█████████████████████████████████████████████████████████████████████████████████████| 4/4 [00:14<00:00,  3.72s/it]"
     ]
    },
    {
     "name": "stdout",
     "output_type": "stream",
     "text": [
      "Train Loss: 0.0089 Train Acc: 0.6975\n",
      "Valid Loss: 0.0096 Valid Acc: 0.6462\n"
     ]
    },
    {
     "name": "stderr",
     "output_type": "stream",
     "text": [
      "\n"
     ]
    },
    {
     "data": {
      "image/png": "[encoded data removed]",
      "text/plain": [
       "<Figure size 720x360 with 1 Axes>"
      ]
     },
     "metadata": {
      "needs_background": "light"
     },
     "output_type": "display_data"
    },
    {
     "data": {
      "image/png": "[encoded data removed]",
      "text/plain": [
       "<Figure size 720x360 with 1 Axes>"
      ]
     },
     "metadata": {
      "needs_background": "light"
     },
     "output_type": "display_data"
    }
   ],
   "source": [
    "model = train_model(epochs, train_dataloader, valid_dataloader, model, loss_fn, optimizer)"
   ]
  },
  {
   "cell_type": "code",
   "execution_count": 19,
   "id": "9a2cf0d2",
   "metadata": {},
   "outputs": [
    {
     "name": "stderr",
     "output_type": "stream",
     "text": [
      "100%|█████████████████████████████████████████████████████████████████████████████████████| 4/4 [00:14<00:00,  3.72s/it]\n"
     ]
    }
   ],
   "source": [
    "preds, targets = evaluation(model, valid_dataloader)"
   ]
  },
  {
   "cell_type": "code",
   "execution_count": 20,
   "id": "8a6497b4",
   "metadata": {},
   "outputs": [
    {
     "name": "stdout",
     "output_type": "stream",
     "text": [
      "              precision    recall  f1-score   support\n",
      "\n",
      "           1      0.580     0.593     0.587       140\n",
      "           2      0.000     0.000     0.000        26\n",
      "           3      0.750     0.701     0.725       137\n",
      "           4      0.625     0.757     0.685       152\n",
      "\n",
      "    accuracy                          0.646       455\n",
      "   macro avg      0.489     0.513     0.499       455\n",
      "weighted avg      0.613     0.646     0.627       455\n",
      "\n"
     ]
    },
    {
     "name": "stderr",
     "output_type": "stream",
     "text": [
      "/home/yoshi/miniconda3/envs/torch-gpu-signate/lib/python3.7/site-packages/sklearn/metrics/_classification.py:1318: UndefinedMetricWarning: Precision and F-score are ill-defined and being set to 0.0 in labels with no predicted samples. Use `zero_division` parameter to control this behavior.\n",
      "  _warn_prf(average, modifier, msg_start, len(result))\n",
      "/home/yoshi/miniconda3/envs/torch-gpu-signate/lib/python3.7/site-packages/sklearn/metrics/_classification.py:1318: UndefinedMetricWarning: Precision and F-score are ill-defined and being set to 0.0 in labels with no predicted samples. Use `zero_division` parameter to control this behavior.\n",
      "  _warn_prf(average, modifier, msg_start, len(result))\n",
      "/home/yoshi/miniconda3/envs/torch-gpu-signate/lib/python3.7/site-packages/sklearn/metrics/_classification.py:1318: UndefinedMetricWarning: Precision and F-score are ill-defined and being set to 0.0 in labels with no predicted samples. Use `zero_division` parameter to control this behavior.\n",
      "  _warn_prf(average, modifier, msg_start, len(result))\n"
     ]
    },
    {
     "data": {
      "image/png": "[encoded data removed]",
      "text/plain": [
       "<Figure size 600x600 with 2 Axes>"
      ]
     },
     "metadata": {
      "needs_background": "light"
     },
     "output_type": "display_data"
    }
   ],
   "source": [
    "labels = [1, 2, 3, 4]\n",
    "l_preds = list(map(lambda x: x + 1, preds))\n",
    "l_targets = list(map(lambda x: x + 1, targets))\n",
    "re_labels = [\"DS\", \"ML\", \"SE\", \"Cons\"]\n",
    "\n",
    "# create confusion matrix\n",
    "conf_mx = confusion_matrix(l_targets, l_preds, labels=labels)\n",
    "conf_df = pd.DataFrame(data=conf_mx, index=[x + \"(act)\" for x in re_labels], columns=[x + \"(pred)\" for x in re_labels])\n",
    "\n",
    "# visualization\n",
    "plt.figure(figsize=(4, 4), dpi=150)\n",
    "sns.heatmap(conf_df, cmap='Blues', annot=True, fmt='d', annot_kws={\"size\": 12}).invert_yaxis()\n",
    "plt.tight_layout()\n",
    "plt.savefig('./results/bert_epoch_5_heatmap.png')\n",
    "\n",
    "print(classification_report(l_targets, l_preds, labels=labels, digits=3))"
   ]
  },
  {
   "cell_type": "markdown",
   "id": "dc9add7e",
   "metadata": {},
   "source": [
    "# Submit "
   ]
  },
  {
   "cell_type": "code",
   "execution_count": 21,
   "id": "f93c0241",
   "metadata": {},
   "outputs": [],
   "source": [
    "# train model using all data\n",
    "submit_dataset = BertDataset(cleaned_train, tokenizer, max_length=max_length, training=True) \n",
    "submit_dataloader = DataLoader(dataset=submit_dataset, shuffle=True, batch_size=batch_size)"
   ]
  },
  {
   "cell_type": "code",
   "execution_count": 22,
   "id": "17fe9441",
   "metadata": {},
   "outputs": [
    {
     "name": "stderr",
     "output_type": "stream",
     "text": [
      "Some weights of the model checkpoint at bert-base-uncased were not used when initializing BertModel: ['cls.predictions.decoder.weight', 'cls.predictions.transform.dense.weight', 'cls.predictions.transform.LayerNorm.weight', 'cls.predictions.transform.LayerNorm.bias', 'cls.seq_relationship.weight', 'cls.predictions.bias', 'cls.seq_relationship.bias', 'cls.predictions.transform.dense.bias']\n",
      "- This IS expected if you are initializing BertModel from the checkpoint of a model trained on another task or with another architecture (e.g. initializing a BertForSequenceClassification model from a BertForPreTraining model).\n",
      "- This IS NOT expected if you are initializing BertModel from the checkpoint of a model that you expect to be exactly identical (initializing a BertForSequenceClassification model from a BertForSequenceClassification model).\n"
     ]
    }
   ],
   "source": [
    "model = BERT()\n",
    "loss_fn = nn.CrossEntropyLoss()\n",
    "# loss_fn = focal_loss(alpha=alpha, gamma=0.5, reduction=\"sum\") # default (gamma = 2.0)\n",
    "optimizer = optim.AdamW(model.parameters())"
   ]
  },
  {
   "cell_type": "code",
   "execution_count": 23,
   "id": "b5f1da39",
   "metadata": {},
   "outputs": [],
   "source": [
    "# if we don't want to re-train bert parameters (we want to train only the last layer)\n",
    "for param in model.bert.parameters():\n",
    "    param.requires_grad = False\n",
    "\n",
    "for param in model.bert.pooler.parameters():\n",
    "    param.requires_grad = True\n",
    "# print(model.bert.pooler.parameters())"
   ]
  },
  {
   "cell_type": "code",
   "execution_count": 24,
   "id": "2dd178d9",
   "metadata": {},
   "outputs": [
    {
     "name": "stdout",
     "output_type": "stream",
     "text": [
      "Epoch 1/5\n",
      "-----------------------------------\n"
     ]
    },
    {
     "name": "stderr",
     "output_type": "stream",
     "text": [
      "100%|███████████████████████████████████████████████████████████████████████████████████| 12/12 [00:45<00:00,  3.83s/it]\n"
     ]
    },
    {
     "name": "stdout",
     "output_type": "stream",
     "text": [
      "Epoch 2/5\n",
      "-----------------------------------\n"
     ]
    },
    {
     "name": "stderr",
     "output_type": "stream",
     "text": [
      "100%|███████████████████████████████████████████████████████████████████████████████████| 12/12 [00:49<00:00,  4.10s/it]\n"
     ]
    },
    {
     "name": "stdout",
     "output_type": "stream",
     "text": [
      "Epoch 3/5\n",
      "-----------------------------------\n"
     ]
    },
    {
     "name": "stderr",
     "output_type": "stream",
     "text": [
      "100%|███████████████████████████████████████████████████████████████████████████████████| 12/12 [00:49<00:00,  4.10s/it]\n"
     ]
    },
    {
     "name": "stdout",
     "output_type": "stream",
     "text": [
      "Epoch 4/5\n",
      "-----------------------------------\n"
     ]
    },
    {
     "name": "stderr",
     "output_type": "stream",
     "text": [
      "100%|███████████████████████████████████████████████████████████████████████████████████| 12/12 [00:49<00:00,  4.11s/it]\n"
     ]
    },
    {
     "name": "stdout",
     "output_type": "stream",
     "text": [
      "Epoch 5/5\n",
      "-----------------------------------\n"
     ]
    },
    {
     "name": "stderr",
     "output_type": "stream",
     "text": [
      "100%|███████████████████████████████████████████████████████████████████████████████████| 12/12 [00:49<00:00,  4.11s/it]\n"
     ]
    }
   ],
   "source": [
    "model = train_submit_model(epochs, submit_dataloader, model, loss_fn, optimizer)"
   ]
  },
  {
   "cell_type": "code",
   "execution_count": 25,
   "id": "fbf5f6ea",
   "metadata": {},
   "outputs": [],
   "source": [
    "torch.save(model.state_dict(), './results/bert_epoch_5.pth')"
   ]
  },
  {
   "cell_type": "code",
   "execution_count": 26,
   "id": "89c7b8b6",
   "metadata": {},
   "outputs": [],
   "source": [
    "# model.load_state_dict(torch.load('./results/bert_epoch_20.pth'))"
   ]
  },
  {
   "cell_type": "code",
   "execution_count": 27,
   "id": "a12666ec",
   "metadata": {},
   "outputs": [],
   "source": [
    "test_dataset = BertDataset(cleaned_test, tokenizer, max_length=max_length, training=False) \n",
    "test_dataloader = DataLoader(dataset=test_dataset, shuffle=False, batch_size=batch_size)"
   ]
  },
  {
   "cell_type": "code",
   "execution_count": 28,
   "id": "530da5bb",
   "metadata": {},
   "outputs": [
    {
     "name": "stderr",
     "output_type": "stream",
     "text": [
      "100%|███████████████████████████████████████████████████████████████████████████████████| 12/12 [00:49<00:00,  4.15s/it]\n"
     ]
    }
   ],
   "source": [
    "pred_sub = prediction(model, test_dataloader)\n",
    "pred_sub = list(map(lambda x: x + 1, pred_sub))"
   ]
  },
  {
   "cell_type": "code",
   "execution_count": 29,
   "id": "b964147f",
   "metadata": {},
   "outputs": [],
   "source": [
    "sample_submit_df = pd.DataFrame(list(zip(list(test['id'].values), pred_sub)), columns=[\"id\", \"pred\"])\n",
    "# sample_submit_df.to_csv('../ensemble/bert/test.csv', header=None, index=None)"
   ]
  },
  {
   "cell_type": "code",
   "execution_count": 30,
   "id": "c6da8754",
   "metadata": {},
   "outputs": [
    {
     "name": "stdout",
     "output_type": "stream",
     "text": [
      "1    564\n",
      "3    506\n",
      "4    447\n",
      "Name: pred, dtype: int64\n"
     ]
    },
    {
     "data": {
      "text/plain": [
       "<AxesSubplot:>"
      ]
     },
     "execution_count": 30,
     "metadata": {},
     "output_type": "execute_result"
    },
    {
     "data": {
      "image/png": "[encoded data removed]",
      "text/plain": [
       "<Figure size 432x288 with 1 Axes>"
      ]
     },
     "metadata": {
      "needs_background": "light"
     },
     "output_type": "display_data"
    }
   ],
   "source": [
    "print(sample_submit_df['pred'].value_counts())\n",
    "sample_submit_df['pred'].value_counts().plot(kind = 'bar')"
   ]
  },
  {
   "cell_type": "code",
   "execution_count": null,
   "id": "c585e1b9",
   "metadata": {},
   "outputs": [],
   "source": []
  }
 ],
 "metadata": {
  "kernelspec": {
   "display_name": "Python 3 (ipykernel)",
   "language": "python",
   "name": "python3"
  },
  "language_info": {
   "codemirror_mode": {
    "name": "ipython",
    "version": 3
   },
   "file_extension": ".py",
   "mimetype": "text/x-python",
   "name": "python",
   "nbconvert_exporter": "python",
   "pygments_lexer": "ipython3",
   "version": "3.7.13"
  }
 },
 "nbformat": 4,
 "nbformat_minor": 5
}
