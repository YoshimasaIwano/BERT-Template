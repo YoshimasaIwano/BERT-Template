{
 "cells": [
  {
   "cell_type": "markdown",
   "id": "7f60b9e8",
   "metadata": {},
   "source": [
    "# *** Note that ***\n",
    "# To run this notebook, you need GPU"
   ]
  },
  {
   "cell_type": "code",
   "execution_count": 1,
   "id": "88d1a193",
   "metadata": {},
   "outputs": [],
   "source": [
    "import pandas as pd\n",
    "import matplotlib.pyplot as plt\n",
    "import seaborn as sns\n",
    "\n",
    "# preporcessing\n",
    "import re\n",
    "from sklearn.model_selection import train_test_split\n",
    "\n",
    "# model\n",
    "from transformers import DistilBertTokenizer, DistilBertModel\n",
    "import numpy as np\n",
    "import torch\n",
    "import torch.nn as nn\n",
    "from torch.utils.data import Dataset, DataLoader\n",
    "import torch.optim as optim\n",
    "import torch.nn.functional as F\n",
    "from tqdm import tqdm"
   ]
  },
  {
   "cell_type": "markdown",
   "id": "0c9f824f",
   "metadata": {},
   "source": [
    "# Import train and test data"
   ]
  },
  {
   "cell_type": "code",
   "execution_count": 2,
   "id": "af040e95",
   "metadata": {},
   "outputs": [],
   "source": [
    "#学習用データと評価用データの読み込み\n",
    "train = pd.read_csv(\"../data/train.csv\")\n",
    "test = pd.read_csv(\"../data/test.csv\")"
   ]
  },
  {
   "cell_type": "code",
   "execution_count": 3,
   "id": "ee5516ad",
   "metadata": {},
   "outputs": [
    {
     "name": "stdout",
     "output_type": "stream",
     "text": [
      "(1516, 3)\n",
      "(1517, 2)\n"
     ]
    }
   ],
   "source": [
    "#データのサイズ確認\n",
    "print(train.shape)\n",
    "print(test.shape)"
   ]
  },
  {
   "cell_type": "code",
   "execution_count": 4,
   "id": "4fe757db",
   "metadata": {},
   "outputs": [
    {
     "data": {
      "text/html": [
       "<div>\n",
       "<style scoped>\n",
       "    .dataframe tbody tr th:only-of-type {\n",
       "        vertical-align: middle;\n",
       "    }\n",
       "\n",
       "    .dataframe tbody tr th {\n",
       "        vertical-align: top;\n",
       "    }\n",
       "\n",
       "    .dataframe thead th {\n",
       "        text-align: right;\n",
       "    }\n",
       "</style>\n",
       "<table border=\"1\" class=\"dataframe\">\n",
       "  <thead>\n",
       "    <tr style=\"text-align: right;\">\n",
       "      <th></th>\n",
       "      <th>id</th>\n",
       "      <th>description</th>\n",
       "      <th>jobflag</th>\n",
       "    </tr>\n",
       "  </thead>\n",
       "  <tbody>\n",
       "    <tr>\n",
       "      <th>0</th>\n",
       "      <td>0</td>\n",
       "      <td>&lt;li&gt;Develop cutting-edge web applications that...</td>\n",
       "      <td>3</td>\n",
       "    </tr>\n",
       "    <tr>\n",
       "      <th>1</th>\n",
       "      <td>1</td>\n",
       "      <td>&lt;li&gt; Designs and develops high quality, scalab...</td>\n",
       "      <td>3</td>\n",
       "    </tr>\n",
       "    <tr>\n",
       "      <th>2</th>\n",
       "      <td>2</td>\n",
       "      <td>&lt;li&gt;Functions as a point person for Network St...</td>\n",
       "      <td>4</td>\n",
       "    </tr>\n",
       "    <tr>\n",
       "      <th>3</th>\n",
       "      <td>3</td>\n",
       "      <td>&lt;li&gt; Work on the technical design, development...</td>\n",
       "      <td>3</td>\n",
       "    </tr>\n",
       "    <tr>\n",
       "      <th>4</th>\n",
       "      <td>4</td>\n",
       "      <td>&lt;li&gt;Quantify the resources required for a task...</td>\n",
       "      <td>4</td>\n",
       "    </tr>\n",
       "  </tbody>\n",
       "</table>\n",
       "</div>"
      ],
      "text/plain": [
       "   id                                        description  jobflag\n",
       "0   0  <li>Develop cutting-edge web applications that...        3\n",
       "1   1  <li> Designs and develops high quality, scalab...        3\n",
       "2   2  <li>Functions as a point person for Network St...        4\n",
       "3   3  <li> Work on the technical design, development...        3\n",
       "4   4  <li>Quantify the resources required for a task...        4"
      ]
     },
     "execution_count": 4,
     "metadata": {},
     "output_type": "execute_result"
    }
   ],
   "source": [
    "#学習用データの中身を確認\n",
    "train.head()"
   ]
  },
  {
   "cell_type": "code",
   "execution_count": 5,
   "id": "56b86e62",
   "metadata": {},
   "outputs": [
    {
     "data": {
      "text/html": [
       "<div>\n",
       "<style scoped>\n",
       "    .dataframe tbody tr th:only-of-type {\n",
       "        vertical-align: middle;\n",
       "    }\n",
       "\n",
       "    .dataframe tbody tr th {\n",
       "        vertical-align: top;\n",
       "    }\n",
       "\n",
       "    .dataframe thead th {\n",
       "        text-align: right;\n",
       "    }\n",
       "</style>\n",
       "<table border=\"1\" class=\"dataframe\">\n",
       "  <thead>\n",
       "    <tr style=\"text-align: right;\">\n",
       "      <th></th>\n",
       "      <th>id</th>\n",
       "      <th>description</th>\n",
       "    </tr>\n",
       "  </thead>\n",
       "  <tbody>\n",
       "    <tr>\n",
       "      <th>0</th>\n",
       "      <td>1516</td>\n",
       "      <td>&lt;li&gt;Building decision-making models and propos...</td>\n",
       "    </tr>\n",
       "    <tr>\n",
       "      <th>1</th>\n",
       "      <td>1517</td>\n",
       "      <td>&lt;li&gt;Educate homeowners on the benefits of sola...</td>\n",
       "    </tr>\n",
       "    <tr>\n",
       "      <th>2</th>\n",
       "      <td>1518</td>\n",
       "      <td>&lt;li&gt;&lt;span&gt;Design, develop, document, and imple...</td>\n",
       "    </tr>\n",
       "    <tr>\n",
       "      <th>3</th>\n",
       "      <td>1519</td>\n",
       "      <td>&lt;li&gt;Apply advanced technical expertise and ski...</td>\n",
       "    </tr>\n",
       "    <tr>\n",
       "      <th>4</th>\n",
       "      <td>1520</td>\n",
       "      <td>&lt;li&gt;Project manage and deliver against our roa...</td>\n",
       "    </tr>\n",
       "  </tbody>\n",
       "</table>\n",
       "</div>"
      ],
      "text/plain": [
       "     id                                        description\n",
       "0  1516  <li>Building decision-making models and propos...\n",
       "1  1517  <li>Educate homeowners on the benefits of sola...\n",
       "2  1518  <li><span>Design, develop, document, and imple...\n",
       "3  1519  <li>Apply advanced technical expertise and ski...\n",
       "4  1520  <li>Project manage and deliver against our roa..."
      ]
     },
     "execution_count": 5,
     "metadata": {},
     "output_type": "execute_result"
    }
   ],
   "source": [
    "#評価用データの中身を確認\n",
    "test.head()"
   ]
  },
  {
   "cell_type": "code",
   "execution_count": 6,
   "id": "91d14456",
   "metadata": {},
   "outputs": [],
   "source": [
    "# import random\n",
    "# random.seed(2)\n",
    "# for ele in range(20//4):\n",
    "#     print([random.randint(0, 20) for k in range(4)])"
   ]
  },
  {
   "cell_type": "markdown",
   "id": "d9808462",
   "metadata": {},
   "source": [
    "# Preprocessing"
   ]
  },
  {
   "cell_type": "code",
   "execution_count": 7,
   "id": "396b6fad",
   "metadata": {},
   "outputs": [],
   "source": [
    "import random\n",
    "random.seed(2)\n",
    "def augmentation(data):\n",
    "    tmp_data = data.copy()\n",
    "    jobflags = []\n",
    "    descriptions = []\n",
    "    for i, row in tmp_data.iterrows():\n",
    "        if (len(row['description']) < 4):\n",
    "            jobflags.append(row['jobflag'])\n",
    "            descriptions.append('. '.join(row['description']))\n",
    "        else:\n",
    "            num_sentence = len(row['description'])\n",
    "            for j in range(num_sentence//4):\n",
    "                ran_index = [random.randint(0, num_sentence-1) for k in range(4)]\n",
    "                tmp_des = []\n",
    "                for tmp_index in ran_index:\n",
    "                    tmp_des.append(row['description'][tmp_index])\n",
    "                jobflags.append(row['jobflag'])\n",
    "                descriptions.append('. '.join(tmp_des))\n",
    "\n",
    "    ret_data = pd.DataFrame(list(zip(jobflags, descriptions)), columns=['jobflag', 'description'])\n",
    "    return ret_data"
   ]
  },
  {
   "cell_type": "code",
   "execution_count": 8,
   "id": "1627e3a4",
   "metadata": {},
   "outputs": [],
   "source": [
    "#以下の手順でdescriptionデータのクリーニングを行う.\n",
    "# <li>などのhtmlタグを削除する\n",
    "\n",
    "def cleaning_train(data):\n",
    "    tmp_data = data.copy()\n",
    "    clean_texts = []\n",
    "    for text in tmp_data[\"description\"]:\n",
    "        # htmlタグを削除\n",
    "        text = remove_tag_train(text)\n",
    "        # replace duble space with single space\n",
    "        text = ' '.join(text.split()) \n",
    "        text = text.replace('\\n', '.')\n",
    "        text = text.replace('. ', '')\n",
    "        text = text.split('.')\n",
    "        text = list(filter(lambda x: x != '', text))\n",
    "        clean_texts.append(text)\n",
    "        \n",
    "    tmp_data[\"description\"] = clean_texts\n",
    "    tmp_data[\"jobflag\"] += -1\n",
    "    \n",
    "    ret_data = augmentation(tmp_data)\n",
    "    \n",
    "    return ret_data\n",
    "\n",
    "def cleaning_valid(data):\n",
    "    tmp_data = data.copy()\n",
    "    clean_texts = []\n",
    "    for text in tmp_data[\"description\"]:\n",
    "        # htmlタグを削除\n",
    "        text = remove_tag(text)\n",
    "        # replace duble space with single space\n",
    "        text = text.replace('  ', ' ')\n",
    "        \n",
    "        clean_texts.append(text)\n",
    "    tmp_data[\"description\"] = clean_texts\n",
    "    tmp_data[\"jobflag\"] += -1\n",
    "    return tmp_data\n",
    "\n",
    "def cleaning_test(data):\n",
    "    tmp_data = data.copy()\n",
    "    clean_texts = []\n",
    "    for text in tmp_data[\"description\"]:\n",
    "        # htmlタグを削除\n",
    "        text = remove_tag(text)\n",
    "        # replace duble space with single space\n",
    "        text = ' '.join(text.split()) \n",
    "        text = text.replace('\\n', '.')\n",
    "        text = text.replace('. ', '')\n",
    "        text = text.split('.')\n",
    "        text = list(filter(lambda x: x != '', text))\n",
    "        clean_texts.append(text)\n",
    "        \n",
    "    tmp_data[\"description\"] = clean_texts\n",
    "    return tmp_data\n",
    "\n",
    "def remove_tag_train(x):\n",
    "    p = re.compile(r\"<[^>]*?>\")\n",
    "    return p.sub('.',x)\n",
    "\n",
    "def remove_tag(x):\n",
    "    p = re.compile(r\"<[^>]*?>\")\n",
    "    return p.sub(' ',x)"
   ]
  },
  {
   "cell_type": "code",
   "execution_count": 9,
   "id": "718e101b",
   "metadata": {},
   "outputs": [],
   "source": [
    "# #学習用データを分割して, 投稿前の精度検証を行う\n",
    "raw_train, raw_valid = train_test_split(train, stratify=train['jobflag'], test_size=0.1, random_state=0)"
   ]
  },
  {
   "cell_type": "code",
   "execution_count": 37,
   "id": "943738ee",
   "metadata": {},
   "outputs": [],
   "source": [
    "data_train = cleaning_train(raw_train)\n",
    "data_valid = cleaning_valid(raw_valid)\n",
    "data_all_train = cleaning_train(train)\n",
    "data_test = cleaning_test(test)"
   ]
  },
  {
   "cell_type": "code",
   "execution_count": 11,
   "id": "57a9d655",
   "metadata": {},
   "outputs": [],
   "source": [
    "# for e in raw_train['description']:\n",
    "#     print(e + \"***\")"
   ]
  },
  {
   "cell_type": "code",
   "execution_count": 12,
   "id": "bb58cadb",
   "metadata": {},
   "outputs": [],
   "source": [
    "# for e in data_train['description']:\n",
    "#     print(e)\n",
    "# #     for sentence in e:\n",
    "# #         print(sentence+ \"** \")\n",
    "#     print('-------------')"
   ]
  },
  {
   "cell_type": "code",
   "execution_count": 13,
   "id": "b51c7f56",
   "metadata": {},
   "outputs": [],
   "source": [
    "# for e in data_valid['description']:\n",
    "#     print(e)\n",
    "# #     for sentence in e:\n",
    "# #         print(sentence+ \"** \")\n",
    "#     print('-------------')"
   ]
  },
  {
   "cell_type": "code",
   "execution_count": 14,
   "id": "cbaf6bae",
   "metadata": {},
   "outputs": [],
   "source": [
    "# import statistics\n",
    "# train_sentence_length = list(map(lambda x: len(x), data_train['description']))\n",
    "# test_sentence_length = list(map(lambda x: len(x), data_test['description']))\n",
    "# print(\"train mean: {} test mean: {}\".format(statistics.mean(train_sentence_length), statistics.mean(test_sentence_length)))\n",
    "# print(\"train median: {} test median: {}\".format(statistics.median(train_sentence_length), statistics.median(test_sentence_length)))\n",
    "# #可視化\n",
    "# fig = plt.figure()\n",
    "# ax = fig.add_subplot(1, 1, 1)\n",
    "# ax.violinplot([train_sentence_length, test_sentence_length])\n",
    "# ax.set_xticks([1, 2])\n",
    "# ax.set_xticklabels(['train', 'test'])\n",
    "# ax.set_ylabel('sentence count')\n",
    "# plt.savefig('./results/sentence_analysis.png')\n",
    "# plt.show()"
   ]
  },
  {
   "cell_type": "code",
   "execution_count": 15,
   "id": "6cbb1e3d",
   "metadata": {},
   "outputs": [],
   "source": [
    "# # クリーニング結果の確認\n",
    "# print('#original\\n', raw_train['description'][1])\n",
    "# print(\"-----\")\n",
    "# print('#cleaned\\n', data_train['description'][1])"
   ]
  },
  {
   "cell_type": "code",
   "execution_count": 16,
   "id": "a42ba452",
   "metadata": {},
   "outputs": [
    {
     "name": "stdout",
     "output_type": "stream",
     "text": [
      "(1516,)\n",
      "(1829,)\n",
      "0    0\n",
      "1    2\n",
      "2    0\n",
      "3    0\n",
      "4    2\n",
      "Name: jobflag, dtype: int64\n"
     ]
    }
   ],
   "source": [
    "print(train['description'].shape)\n",
    "print(data_train['description'].shape)\n",
    "print(data_train['jobflag'].head())"
   ]
  },
  {
   "cell_type": "markdown",
   "id": "9b9c64fb",
   "metadata": {},
   "source": [
    "# Model"
   ]
  },
  {
   "cell_type": "markdown",
   "id": "5a5afdf1",
   "metadata": {},
   "source": [
    "before using transformers, install transformers from huggingface  \n",
    "`conda install -c huggingface transformers`"
   ]
  },
  {
   "cell_type": "code",
   "execution_count": 17,
   "id": "05fbf9f5",
   "metadata": {},
   "outputs": [],
   "source": [
    "# hyper-parameters\n",
    "epochs = 20\n",
    "batch_size = 128\n",
    "max_length = 512"
   ]
  },
  {
   "cell_type": "code",
   "execution_count": 18,
   "id": "4769165d",
   "metadata": {},
   "outputs": [],
   "source": [
    "class BertDataset(Dataset):\n",
    "    def __init__(self, data, tokenizer, max_length, training):\n",
    "        super(BertDataset, self).__init__()\n",
    "        self.data = data\n",
    "        self.tokenizer = tokenizer\n",
    "        self.max_length = max_length\n",
    "        self.training = training\n",
    "        \n",
    "    def __len__(self):\n",
    "        return len(self.data)\n",
    "    \n",
    "    def __getitem__(self, index):\n",
    "        txt = self.data[\"description\"].iloc[index] \n",
    "        \n",
    "        inputs = self.tokenizer.encode_plus(\n",
    "            txt, \n",
    "            None,\n",
    "            max_length=self.max_length,\n",
    "            padding='max_length',\n",
    "            add_special_tokens=True,\n",
    "            return_attention_mask=True,\n",
    "            truncation=True,\n",
    "            return_tensors=\"pt\",\n",
    "        )\n",
    "        ids = inputs[\"input_ids\"]\n",
    "        mask = inputs[\"attention_mask\"]\n",
    "        if self.training:\n",
    "            target = torch.tensor(self.data[\"jobflag\"].iloc[index])\n",
    "            target = F.one_hot(target, num_classes=4).float()\n",
    "            return ids, mask, target \n",
    "        else:\n",
    "            return ids, mask "
   ]
  },
  {
   "cell_type": "code",
   "execution_count": 19,
   "id": "67da9ad9",
   "metadata": {},
   "outputs": [],
   "source": [
    "tokenizer = DistilBertTokenizer.from_pretrained(\"distilbert-base-uncased\")"
   ]
  },
  {
   "cell_type": "code",
   "execution_count": 20,
   "id": "f86a108f",
   "metadata": {},
   "outputs": [],
   "source": [
    "train_dataset = BertDataset(data_train, tokenizer, max_length=max_length, training=True) \n",
    "train_dataloader = DataLoader(dataset=train_dataset, shuffle=True, batch_size=batch_size)"
   ]
  },
  {
   "cell_type": "code",
   "execution_count": 21,
   "id": "53478e4f",
   "metadata": {},
   "outputs": [],
   "source": [
    "valid_dataset = BertDataset(data_valid, tokenizer, max_length=max_length, training=True) \n",
    "valid_dataloader = DataLoader(dataset=valid_dataset, shuffle=True, batch_size=batch_size)"
   ]
  },
  {
   "cell_type": "code",
   "execution_count": 22,
   "id": "3c64e8b9",
   "metadata": {},
   "outputs": [],
   "source": [
    "class BERT(nn.Module):\n",
    "    def __init__(self):\n",
    "        super(BERT, self).__init__()\n",
    "        self.bert = DistilBertModel.from_pretrained(\"distilbert-base-uncased\")\n",
    "#         self.fc = nn.Linear(768, 768)\n",
    "        self.final_layer = nn.Linear(768, 4)\n",
    "        self.softmax = nn.Softmax(dim=1)\n",
    "        \n",
    "    def forward(self, ids, mask): #, token_type_ids\n",
    "        out_bert = self.bert(ids, attention_mask=mask, return_dict=False) # , token_type_ids=token_type_ids\n",
    "#         out = self.fc(out_bert[0][:,0,:])\n",
    "#         out = self.final_layer(out+out_bert[0][:,0,:]) # skipping connection\n",
    "        out = self.final_layer(out_bert[0][:,0,:])\n",
    "        out = self.softmax(out)\n",
    "        \n",
    "        return out"
   ]
  },
  {
   "cell_type": "markdown",
   "id": "93876eaa",
   "metadata": {},
   "source": [
    "# Loss function"
   ]
  },
  {
   "cell_type": "code",
   "execution_count": 23,
   "id": "aa7f7af6",
   "metadata": {},
   "outputs": [],
   "source": [
    "# Focal loss\n",
    "\n",
    "def focal_loss(alpha, gamma=2.0, reduction=\"none\"):\n",
    "#     alpha= 0.25,\n",
    "#     gamma: float = 2,\n",
    "#     reduction: str = \"none\",\n",
    "\n",
    "    \"\"\"\n",
    "    Original implementation from https://github.com/facebookresearch/fvcore/blob/master/fvcore/nn/focal_loss.py .\n",
    "    Loss used in RetinaNet for dense detection: https://arxiv.org/abs/1708.02002.\n",
    "\n",
    "    Args:\n",
    "        inputs: A float tensor of arbitrary shape.\n",
    "                The predictions for each example.\n",
    "        targets: A float tensor with the same shape as inputs. Stores the binary\n",
    "                classification label for each element in inputs\n",
    "                (0 for the negative class and 1 for the positive class).\n",
    "        alpha: (optional) Weighting factor in range (0,1) to balance\n",
    "                positive vs negative examples or -1 for ignore. Default = 0.25\n",
    "        gamma: Exponent of the modulating factor (1 - p_t) to\n",
    "               balance easy vs hard examples.\n",
    "        reduction: 'none' | 'mean' | 'sum'\n",
    "                 'none': No reduction will be applied to the output.\n",
    "                 'mean': The output will be averaged.\n",
    "                 'sum': The output will be summed.\n",
    "    Returns:\n",
    "        Loss tensor with the reduction option applied.\n",
    "    \"\"\"        \n",
    "    device = torch.device(\"cuda:0\" if torch.cuda.is_available() else \"cpu\")\n",
    "    gamma =  torch.tensor(gamma, device=device)\n",
    "    def categorical_focal_loss(inputs, targets):\n",
    "        device = torch.device(\"cuda:0\" if torch.cuda.is_available() else \"cpu\")\n",
    "        epsilon = 1e-10\n",
    "        epsilon = torch.tensor(epsilon, device=device)\n",
    "        inputs = inputs.to(device)\n",
    "        targets = targets.to(device)\n",
    "        ce_loss = -targets * torch.log(inputs+epsilon)\n",
    "        loss = alpha * torch.pow(1 - inputs, gamma) * ce_loss #ce_loss * ((1 - p_t) ** gamma)\n",
    "\n",
    "        if reduction == \"mean\":\n",
    "            loss = loss.mean()\n",
    "        elif reduction == \"sum\":\n",
    "            loss = loss.sum()\n",
    "\n",
    "        return loss\n",
    "    \n",
    "    return categorical_focal_loss"
   ]
  },
  {
   "cell_type": "code",
   "execution_count": 24,
   "id": "bee50911",
   "metadata": {},
   "outputs": [
    {
     "name": "stdout",
     "output_type": "stream",
     "text": [
      "torch.Size([4])\n",
      "tensor([ 3.2393, 17.2273,  3.3319,  3.0020], device='cuda:0',\n",
      "       dtype=torch.float64)\n"
     ]
    }
   ],
   "source": [
    "# calculate alpha\n",
    "alpha = len(train) / train['jobflag'].value_counts()\n",
    "alpha = alpha.sort_index()\n",
    "device = torch.device(\"cuda:0\" if torch.cuda.is_available() else \"cpu\")\n",
    "alpha = torch.tensor(alpha.values, device=device)\n",
    "# alpha = alpha / sum(alpha)\n",
    "print(alpha.shape)\n",
    "print(alpha)"
   ]
  },
  {
   "cell_type": "code",
   "execution_count": 25,
   "id": "87e7975a",
   "metadata": {},
   "outputs": [
    {
     "name": "stderr",
     "output_type": "stream",
     "text": [
      "Some weights of the model checkpoint at distilbert-base-uncased were not used when initializing DistilBertModel: ['vocab_layer_norm.bias', 'vocab_projector.weight', 'vocab_transform.weight', 'vocab_projector.bias', 'vocab_transform.bias', 'vocab_layer_norm.weight']\n",
      "- This IS expected if you are initializing DistilBertModel from the checkpoint of a model trained on another task or with another architecture (e.g. initializing a BertForSequenceClassification model from a BertForPreTraining model).\n",
      "- This IS NOT expected if you are initializing DistilBertModel from the checkpoint of a model that you expect to be exactly identical (initializing a BertForSequenceClassification model from a BertForSequenceClassification model).\n"
     ]
    }
   ],
   "source": [
    "model = BERT()\n",
    "loss_fn = nn.CrossEntropyLoss()\n",
    "# loss_fn = focal_loss(alpha=alpha, reduction=\"sum\") # default (gamma = 2.0) gamma=0.5,\n",
    "optimizer = optim.AdamW(model.parameters())"
   ]
  },
  {
   "cell_type": "code",
   "execution_count": 26,
   "id": "0c19587a",
   "metadata": {},
   "outputs": [],
   "source": [
    "# print(model)"
   ]
  },
  {
   "cell_type": "code",
   "execution_count": 27,
   "id": "5b6fb717",
   "metadata": {},
   "outputs": [],
   "source": [
    "# print(model.bert.transformer.layer[5].ffn)"
   ]
  },
  {
   "cell_type": "code",
   "execution_count": 28,
   "id": "be7ea0eb",
   "metadata": {},
   "outputs": [],
   "source": [
    "# if we don't want to re-train bert parameters (we want to train only the last layer)\n",
    "for param in model.bert.parameters():\n",
    "    param.requires_grad = False\n",
    "\n",
    "for param in model.bert.transformer.layer[5].ffn.parameters():\n",
    "    param.requires_grad = True\n",
    "# print(model.bert.pooler.parameters())"
   ]
  },
  {
   "cell_type": "code",
   "execution_count": 29,
   "id": "4698cd52",
   "metadata": {},
   "outputs": [],
   "source": [
    "# To visualize the process of training\n",
    "def visuzlize_training_process(train_losses, train_accs, val_losses, val_accs):\n",
    "    #　graph for checking accuracy\n",
    "    plt.figure(figsize=(10,5))\n",
    "    plt.plot(train_accs, label = 'train_acc')\n",
    "    plt.plot(val_accs, label = 'val_acc')\n",
    "    plt.xticks(np.arange(1, epochs+1, 1))\n",
    "    plt.title('Accuracy Graph')\n",
    "    plt.xlabel('epoch')\n",
    "    plt.ylabel('accuracy')\n",
    "    plt.legend()\n",
    "    plt.savefig('./results/distilbert_epoch_20_acccuracy.png')\n",
    "    plt.show()\n",
    "    plt.close()\n",
    "\n",
    "    #　graph for checking loss\n",
    "    plt.figure(figsize=(10,5))\n",
    "    plt.plot(train_losses, label = 'train_loss')\n",
    "    plt.plot(val_losses, label = 'val_loss')\n",
    "    plt.xticks(np.arange(1, epochs+1, 1))\n",
    "    plt.title('Loss Graph')\n",
    "    plt.xlabel('epoch')\n",
    "    plt.ylabel('loss')\n",
    "    plt.legend()\n",
    "    plt.savefig('./results/distilbert_epoch_20_loss.png')\n",
    "    plt.show()\n",
    "    plt.close()"
   ]
  },
  {
   "cell_type": "code",
   "execution_count": 30,
   "id": "0b7d1bf6",
   "metadata": {},
   "outputs": [],
   "source": [
    "# To evaluate validation loss and accuracy in training loop\n",
    "def caluculate_val_loss_acc(model, loss_fn, valid_dataloader):\n",
    "    device = torch.device(\"cuda:0\" if torch.cuda.is_available() else \"cpu\")\n",
    "    model.eval()\n",
    "    \n",
    "    val_loss = 0.0\n",
    "    val_correct = 0.0\n",
    "    with torch.no_grad():\n",
    "        for ids, mask, target in tqdm(valid_dataloader): #token_type_ids,\n",
    "            ids = torch.reshape(ids, (ids.shape[0], ids.shape[2]))\n",
    "            mask = torch.reshape(mask, (mask.shape[0], mask.shape[2]))\n",
    "            \n",
    "            ids = ids.to(device)\n",
    "            mask = mask.to(device)\n",
    "            \n",
    "            output = model(ids=ids, mask=mask) \n",
    "            loss = loss_fn(output.cpu(), target)\n",
    "            \n",
    "            # calculate valid loss and accuracy\n",
    "            # convert one-hot to label\n",
    "            val_loss += loss.item() \n",
    "            val_pred = torch.argmax(output.cpu(), dim=-1)\n",
    "            target_label = torch.argmax(target, dim=-1)\n",
    "            val_correct += torch.sum(val_pred == target_label) \n",
    "            \n",
    "        val_loss = val_loss / len(valid_dataloader.dataset)\n",
    "        val_acc = val_correct / len(valid_dataloader.dataset)\n",
    "            \n",
    "    return val_loss, val_acc"
   ]
  },
  {
   "cell_type": "code",
   "execution_count": 31,
   "id": "fd57f631",
   "metadata": {},
   "outputs": [],
   "source": [
    "# This function is for training loop\n",
    "def train_model(epochs, train_dataloader, valid_dataloader, model, loss_fn, optimizer):\n",
    "    # If you can use GPU, set up GPU. Otherwise, use CPU\n",
    "    device = torch.device(\"cuda:0\" if torch.cuda.is_available() else \"cpu\")\n",
    "    model.to(device)\n",
    "    model.train()\n",
    "    \n",
    "    train_losses = []\n",
    "    train_accs = []\n",
    "    val_losses = []\n",
    "    val_accs = []\n",
    "    for epoch in range(epochs):\n",
    "        print(\"Epoch {}/{}\".format(epoch+1, epochs))\n",
    "        print(\"-----------------------------------\")\n",
    "        \n",
    "        train_loss = 0.0\n",
    "        train_correct = 0.0\n",
    "        for ids, mask, target in tqdm(train_dataloader): \n",
    "            # We need to reshape data here, I dont know why\n",
    "            ids = torch.reshape(ids, (ids.shape[0], ids.shape[2]))\n",
    "            mask = torch.reshape(mask, (mask.shape[0], mask.shape[2]))\n",
    "            \n",
    "            # send data to GPU\n",
    "            ids = ids.to(device)\n",
    "            mask = mask.to(device)\n",
    "            target = target.to(device)\n",
    "            \n",
    "            # train and backforward\n",
    "            optimizer.zero_grad()\n",
    "            output = model(ids=ids, mask=mask) \n",
    "            loss = loss_fn(output, target) \n",
    "            loss.backward()\n",
    "            optimizer.step()\n",
    "            \n",
    "            # calculate train loss and accuracy\n",
    "            # convert one-hot to label\n",
    "            train_loss += loss.item() \n",
    "            train_pred = torch.argmax(output, dim=-1)\n",
    "            target_label = torch.argmax(target, dim=-1)\n",
    "            train_correct += torch.sum(train_pred == target_label) \n",
    "            \n",
    "        train_loss = train_loss / len(train_dataloader.dataset)\n",
    "        train_acc = train_correct / len(train_dataloader.dataset)\n",
    "        val_loss, val_acc = caluculate_val_loss_acc(model, loss_fn, valid_dataloader)\n",
    "        \n",
    "        print(\"Train Loss: {:.4f} Train Acc: {:.4f}\".format(train_loss, train_acc))\n",
    "        print(\"Valid Loss: {:.4f} Valid Acc: {:.4f}\".format(val_loss, val_acc))\n",
    "        train_losses.append(train_loss)\n",
    "        train_accs.append(train_acc.cpu())\n",
    "        val_losses.append(val_loss)\n",
    "        val_accs.append(val_acc)\n",
    "    \n",
    "    visuzlize_training_process(train_losses, train_accs, val_losses, val_accs)        \n",
    "    return model"
   ]
  },
  {
   "cell_type": "code",
   "execution_count": 32,
   "id": "33682f87",
   "metadata": {},
   "outputs": [
    {
     "name": "stdout",
     "output_type": "stream",
     "text": [
      "Epoch 1/20\n",
      "-----------------------------------\n"
     ]
    },
    {
     "name": "stderr",
     "output_type": "stream",
     "text": [
      "100%|███████████████████████████████████████████████████████████████████████████████████| 15/15 [00:27<00:00,  1.84s/it]\n",
      "100%|█████████████████████████████████████████████████████████████████████████████████████| 2/2 [00:02<00:00,  1.03s/it]\n"
     ]
    },
    {
     "name": "stdout",
     "output_type": "stream",
     "text": [
      "Train Loss: 0.0100 Train Acc: 0.4959\n",
      "Valid Loss: 0.0151 Valid Acc: 0.6513\n",
      "Epoch 2/20\n",
      "-----------------------------------\n"
     ]
    },
    {
     "name": "stderr",
     "output_type": "stream",
     "text": [
      "100%|███████████████████████████████████████████████████████████████████████████████████| 15/15 [00:25<00:00,  1.71s/it]\n",
      "100%|█████████████████████████████████████████████████████████████████████████████████████| 2/2 [00:02<00:00,  1.04s/it]\n"
     ]
    },
    {
     "name": "stdout",
     "output_type": "stream",
     "text": [
      "Train Loss: 0.0091 Train Acc: 0.6260\n",
      "Valid Loss: 0.0156 Valid Acc: 0.5658\n",
      "Epoch 3/20\n",
      "-----------------------------------\n"
     ]
    },
    {
     "name": "stderr",
     "output_type": "stream",
     "text": [
      "100%|███████████████████████████████████████████████████████████████████████████████████| 15/15 [00:25<00:00,  1.71s/it]\n",
      "100%|█████████████████████████████████████████████████████████████████████████████████████| 2/2 [00:02<00:00,  1.03s/it]\n"
     ]
    },
    {
     "name": "stdout",
     "output_type": "stream",
     "text": [
      "Train Loss: 0.0091 Train Acc: 0.6217\n",
      "Valid Loss: 0.0152 Valid Acc: 0.6250\n",
      "Epoch 4/20\n",
      "-----------------------------------\n"
     ]
    },
    {
     "name": "stderr",
     "output_type": "stream",
     "text": [
      "100%|███████████████████████████████████████████████████████████████████████████████████| 15/15 [00:25<00:00,  1.71s/it]\n",
      "100%|█████████████████████████████████████████████████████████████████████████████████████| 2/2 [00:02<00:00,  1.03s/it]\n"
     ]
    },
    {
     "name": "stdout",
     "output_type": "stream",
     "text": [
      "Train Loss: 0.0088 Train Acc: 0.6676\n",
      "Valid Loss: 0.0139 Valid Acc: 0.6776\n",
      "Epoch 5/20\n",
      "-----------------------------------\n"
     ]
    },
    {
     "name": "stderr",
     "output_type": "stream",
     "text": [
      "100%|███████████████████████████████████████████████████████████████████████████████████| 15/15 [00:25<00:00,  1.72s/it]\n",
      "100%|█████████████████████████████████████████████████████████████████████████████████████| 2/2 [00:02<00:00,  1.03s/it]\n"
     ]
    },
    {
     "name": "stdout",
     "output_type": "stream",
     "text": [
      "Train Loss: 0.0086 Train Acc: 0.6894\n",
      "Valid Loss: 0.0149 Valid Acc: 0.6250\n",
      "Epoch 6/20\n",
      "-----------------------------------\n"
     ]
    },
    {
     "name": "stderr",
     "output_type": "stream",
     "text": [
      "100%|███████████████████████████████████████████████████████████████████████████████████| 15/15 [00:25<00:00,  1.71s/it]\n",
      "100%|█████████████████████████████████████████████████████████████████████████████████████| 2/2 [00:02<00:00,  1.03s/it]\n"
     ]
    },
    {
     "name": "stdout",
     "output_type": "stream",
     "text": [
      "Train Loss: 0.0085 Train Acc: 0.6976\n",
      "Valid Loss: 0.0142 Valid Acc: 0.6250\n",
      "Epoch 7/20\n",
      "-----------------------------------\n"
     ]
    },
    {
     "name": "stderr",
     "output_type": "stream",
     "text": [
      "100%|███████████████████████████████████████████████████████████████████████████████████| 15/15 [00:25<00:00,  1.71s/it]\n",
      "100%|█████████████████████████████████████████████████████████████████████████████████████| 2/2 [00:02<00:00,  1.03s/it]\n"
     ]
    },
    {
     "name": "stdout",
     "output_type": "stream",
     "text": [
      "Train Loss: 0.0085 Train Acc: 0.7069\n",
      "Valid Loss: 0.0136 Valid Acc: 0.6711\n",
      "Epoch 8/20\n",
      "-----------------------------------\n"
     ]
    },
    {
     "name": "stderr",
     "output_type": "stream",
     "text": [
      "100%|███████████████████████████████████████████████████████████████████████████████████| 15/15 [00:25<00:00,  1.71s/it]\n",
      "100%|█████████████████████████████████████████████████████████████████████████████████████| 2/2 [00:02<00:00,  1.03s/it]\n"
     ]
    },
    {
     "name": "stdout",
     "output_type": "stream",
     "text": [
      "Train Loss: 0.0084 Train Acc: 0.7059\n",
      "Valid Loss: 0.0140 Valid Acc: 0.6645\n",
      "Epoch 9/20\n",
      "-----------------------------------\n"
     ]
    },
    {
     "name": "stderr",
     "output_type": "stream",
     "text": [
      "100%|███████████████████████████████████████████████████████████████████████████████████| 15/15 [00:25<00:00,  1.72s/it]\n",
      "100%|█████████████████████████████████████████████████████████████████████████████████████| 2/2 [00:02<00:00,  1.03s/it]\n"
     ]
    },
    {
     "name": "stdout",
     "output_type": "stream",
     "text": [
      "Train Loss: 0.0086 Train Acc: 0.6802\n",
      "Valid Loss: 0.0148 Valid Acc: 0.6184\n",
      "Epoch 10/20\n",
      "-----------------------------------\n"
     ]
    },
    {
     "name": "stderr",
     "output_type": "stream",
     "text": [
      "100%|███████████████████████████████████████████████████████████████████████████████████| 15/15 [00:25<00:00,  1.71s/it]\n",
      "100%|█████████████████████████████████████████████████████████████████████████████████████| 2/2 [00:02<00:00,  1.03s/it]\n"
     ]
    },
    {
     "name": "stdout",
     "output_type": "stream",
     "text": [
      "Train Loss: 0.0085 Train Acc: 0.6993\n",
      "Valid Loss: 0.0143 Valid Acc: 0.6447\n",
      "Epoch 11/20\n",
      "-----------------------------------\n"
     ]
    },
    {
     "name": "stderr",
     "output_type": "stream",
     "text": [
      "100%|███████████████████████████████████████████████████████████████████████████████████| 15/15 [00:25<00:00,  1.72s/it]\n",
      "100%|█████████████████████████████████████████████████████████████████████████████████████| 2/2 [00:02<00:00,  1.03s/it]\n"
     ]
    },
    {
     "name": "stdout",
     "output_type": "stream",
     "text": [
      "Train Loss: 0.0083 Train Acc: 0.7184\n",
      "Valid Loss: 0.0144 Valid Acc: 0.6513\n",
      "Epoch 12/20\n",
      "-----------------------------------\n"
     ]
    },
    {
     "name": "stderr",
     "output_type": "stream",
     "text": [
      "100%|███████████████████████████████████████████████████████████████████████████████████| 15/15 [00:25<00:00,  1.71s/it]\n",
      "100%|█████████████████████████████████████████████████████████████████████████████████████| 2/2 [00:02<00:00,  1.03s/it]\n"
     ]
    },
    {
     "name": "stdout",
     "output_type": "stream",
     "text": [
      "Train Loss: 0.0083 Train Acc: 0.7239\n",
      "Valid Loss: 0.0139 Valid Acc: 0.6513\n",
      "Epoch 13/20\n",
      "-----------------------------------\n"
     ]
    },
    {
     "name": "stderr",
     "output_type": "stream",
     "text": [
      "100%|███████████████████████████████████████████████████████████████████████████████████| 15/15 [00:25<00:00,  1.72s/it]\n",
      "100%|█████████████████████████████████████████████████████████████████████████████████████| 2/2 [00:02<00:00,  1.03s/it]\n"
     ]
    },
    {
     "name": "stdout",
     "output_type": "stream",
     "text": [
      "Train Loss: 0.0083 Train Acc: 0.7250\n",
      "Valid Loss: 0.0146 Valid Acc: 0.6382\n",
      "Epoch 14/20\n",
      "-----------------------------------\n"
     ]
    },
    {
     "name": "stderr",
     "output_type": "stream",
     "text": [
      "100%|███████████████████████████████████████████████████████████████████████████████████| 15/15 [00:25<00:00,  1.71s/it]\n",
      "100%|█████████████████████████████████████████████████████████████████████████████████████| 2/2 [00:02<00:00,  1.03s/it]\n"
     ]
    },
    {
     "name": "stdout",
     "output_type": "stream",
     "text": [
      "Train Loss: 0.0082 Train Acc: 0.7469\n",
      "Valid Loss: 0.0137 Valid Acc: 0.7105\n",
      "Epoch 15/20\n",
      "-----------------------------------\n"
     ]
    },
    {
     "name": "stderr",
     "output_type": "stream",
     "text": [
      "100%|███████████████████████████████████████████████████████████████████████████████████| 15/15 [00:26<00:00,  1.74s/it]\n",
      "100%|█████████████████████████████████████████████████████████████████████████████████████| 2/2 [00:02<00:00,  1.08s/it]\n"
     ]
    },
    {
     "name": "stdout",
     "output_type": "stream",
     "text": [
      "Train Loss: 0.0083 Train Acc: 0.7305\n",
      "Valid Loss: 0.0141 Valid Acc: 0.6776\n",
      "Epoch 16/20\n",
      "-----------------------------------\n"
     ]
    },
    {
     "name": "stderr",
     "output_type": "stream",
     "text": [
      "100%|███████████████████████████████████████████████████████████████████████████████████| 15/15 [00:25<00:00,  1.71s/it]\n",
      "100%|█████████████████████████████████████████████████████████████████████████████████████| 2/2 [00:02<00:00,  1.03s/it]\n"
     ]
    },
    {
     "name": "stdout",
     "output_type": "stream",
     "text": [
      "Train Loss: 0.0082 Train Acc: 0.7365\n",
      "Valid Loss: 0.0137 Valid Acc: 0.6974\n",
      "Epoch 17/20\n",
      "-----------------------------------\n"
     ]
    },
    {
     "name": "stderr",
     "output_type": "stream",
     "text": [
      "100%|███████████████████████████████████████████████████████████████████████████████████| 15/15 [00:26<00:00,  1.74s/it]\n",
      "100%|█████████████████████████████████████████████████████████████████████████████████████| 2/2 [00:02<00:00,  1.04s/it]\n"
     ]
    },
    {
     "name": "stdout",
     "output_type": "stream",
     "text": [
      "Train Loss: 0.0082 Train Acc: 0.7474\n",
      "Valid Loss: 0.0147 Valid Acc: 0.6711\n",
      "Epoch 18/20\n",
      "-----------------------------------\n"
     ]
    },
    {
     "name": "stderr",
     "output_type": "stream",
     "text": [
      "100%|███████████████████████████████████████████████████████████████████████████████████| 15/15 [00:25<00:00,  1.71s/it]\n",
      "100%|█████████████████████████████████████████████████████████████████████████████████████| 2/2 [00:02<00:00,  1.03s/it]\n"
     ]
    },
    {
     "name": "stdout",
     "output_type": "stream",
     "text": [
      "Train Loss: 0.0082 Train Acc: 0.7507\n",
      "Valid Loss: 0.0140 Valid Acc: 0.6776\n",
      "Epoch 19/20\n",
      "-----------------------------------\n"
     ]
    },
    {
     "name": "stderr",
     "output_type": "stream",
     "text": [
      "100%|███████████████████████████████████████████████████████████████████████████████████| 15/15 [00:25<00:00,  1.71s/it]\n",
      "100%|█████████████████████████████████████████████████████████████████████████████████████| 2/2 [00:02<00:00,  1.03s/it]\n"
     ]
    },
    {
     "name": "stdout",
     "output_type": "stream",
     "text": [
      "Train Loss: 0.0081 Train Acc: 0.7594\n",
      "Valid Loss: 0.0138 Valid Acc: 0.6908\n",
      "Epoch 20/20\n",
      "-----------------------------------\n"
     ]
    },
    {
     "name": "stderr",
     "output_type": "stream",
     "text": [
      "100%|███████████████████████████████████████████████████████████████████████████████████| 15/15 [00:25<00:00,  1.72s/it]\n",
      "100%|█████████████████████████████████████████████████████████████████████████████████████| 2/2 [00:02<00:00,  1.03s/it]"
     ]
    },
    {
     "name": "stdout",
     "output_type": "stream",
     "text": [
      "Train Loss: 0.0079 Train Acc: 0.7753\n",
      "Valid Loss: 0.0131 Valid Acc: 0.6711\n"
     ]
    },
    {
     "name": "stderr",
     "output_type": "stream",
     "text": [
      "\n"
     ]
    },
    {
     "data": {
      "image/png": "[encoded data removed]",
      "text/plain": [
       "<Figure size 720x360 with 1 Axes>"
      ]
     },
     "metadata": {
      "needs_background": "light"
     },
     "output_type": "display_data"
    },
    {
     "data": {
      "image/png": "[encoded data removed]",
      "text/plain": [
       "<Figure size 720x360 with 1 Axes>"
      ]
     },
     "metadata": {
      "needs_background": "light"
     },
     "output_type": "display_data"
    }
   ],
   "source": [
    "model = train_model(epochs, train_dataloader, valid_dataloader, model, loss_fn, optimizer)"
   ]
  },
  {
   "cell_type": "code",
   "execution_count": 33,
   "id": "42793148",
   "metadata": {},
   "outputs": [],
   "source": [
    "# this is for evaluating model using validation data\n",
    "def evaluation(model, dataloader):\n",
    "    device = torch.device(\"cuda:0\" if torch.cuda.is_available() else \"cpu\")\n",
    "    model.to(device)\n",
    "    model.eval()\n",
    "    \n",
    "    preds = []\n",
    "    targets = []\n",
    "    with torch.no_grad():\n",
    "        for ids, mask, target in tqdm(dataloader):\n",
    "            ids = torch.reshape(ids, (ids.shape[0], ids.shape[2]))\n",
    "            mask = torch.reshape(mask, (mask.shape[0], mask.shape[2]))\n",
    "            \n",
    "            ids = ids.to(device)\n",
    "            mask = mask.to(device)\n",
    "            \n",
    "            output = model(ids=ids, mask=mask)\n",
    "            \n",
    "            pred = torch.argmax(output.cpu(), dim=-1)\n",
    "            target = torch.argmax(target, dim=-1)\n",
    "            preds.extend(pred)\n",
    "            targets.extend(target)\n",
    "            \n",
    "    return preds, targets"
   ]
  },
  {
   "cell_type": "code",
   "execution_count": 34,
   "id": "9a2cf0d2",
   "metadata": {},
   "outputs": [
    {
     "name": "stderr",
     "output_type": "stream",
     "text": [
      "100%|█████████████████████████████████████████████████████████████████████████████████████| 2/2 [00:02<00:00,  1.03s/it]\n"
     ]
    }
   ],
   "source": [
    "preds, targets = evaluation(model, valid_dataloader)"
   ]
  },
  {
   "cell_type": "code",
   "execution_count": 35,
   "id": "8a6497b4",
   "metadata": {},
   "outputs": [
    {
     "name": "stdout",
     "output_type": "stream",
     "text": [
      "              precision    recall  f1-score   support\n",
      "\n",
      "           1      0.582     0.681     0.627        47\n",
      "           2      0.000     0.000     0.000         9\n",
      "           3      0.780     0.711     0.744        45\n",
      "           4      0.679     0.745     0.710        51\n",
      "\n",
      "    accuracy                          0.671       152\n",
      "   macro avg      0.510     0.534     0.520       152\n",
      "weighted avg      0.639     0.671     0.653       152\n",
      "\n"
     ]
    },
    {
     "name": "stderr",
     "output_type": "stream",
     "text": [
      "/home/yoshi/miniconda3/envs/torch-gpu-signate/lib/python3.7/site-packages/sklearn/metrics/_classification.py:1318: UndefinedMetricWarning: Precision and F-score are ill-defined and being set to 0.0 in labels with no predicted samples. Use `zero_division` parameter to control this behavior.\n",
      "  _warn_prf(average, modifier, msg_start, len(result))\n",
      "/home/yoshi/miniconda3/envs/torch-gpu-signate/lib/python3.7/site-packages/sklearn/metrics/_classification.py:1318: UndefinedMetricWarning: Precision and F-score are ill-defined and being set to 0.0 in labels with no predicted samples. Use `zero_division` parameter to control this behavior.\n",
      "  _warn_prf(average, modifier, msg_start, len(result))\n",
      "/home/yoshi/miniconda3/envs/torch-gpu-signate/lib/python3.7/site-packages/sklearn/metrics/_classification.py:1318: UndefinedMetricWarning: Precision and F-score are ill-defined and being set to 0.0 in labels with no predicted samples. Use `zero_division` parameter to control this behavior.\n",
      "  _warn_prf(average, modifier, msg_start, len(result))\n"
     ]
    },
    {
     "data": {
      "image/png": "[encoded data removed]",
      "text/plain": [
       "<Figure size 600x600 with 2 Axes>"
      ]
     },
     "metadata": {
      "needs_background": "light"
     },
     "output_type": "display_data"
    }
   ],
   "source": [
    "from sklearn.metrics import confusion_matrix, classification_report\n",
    "labels = [1, 2, 3, 4]\n",
    "l_preds = list(map(lambda x: x + 1, preds))\n",
    "l_targets = list(map(lambda x: x + 1, targets))\n",
    "re_labels = [\"DS\", \"ML\", \"SE\", \"Cons\"]\n",
    "\n",
    "#混同行列の作成\n",
    "conf_mx = confusion_matrix(l_targets, l_preds, labels=labels)\n",
    "conf_df = pd.DataFrame(data=conf_mx, index=[x + \"(act)\" for x in re_labels], columns=[x + \"(pred)\" for x in re_labels])\n",
    "\n",
    "#可視化\n",
    "plt.figure(figsize=(4, 4), dpi=150)\n",
    "sns.heatmap(conf_df, cmap='Blues', annot=True, fmt='d', annot_kws={\"size\": 12}).invert_yaxis()\n",
    "plt.tight_layout()\n",
    "plt.savefig('./results/distilbert_epoch_20_heatmap.png')\n",
    "\n",
    "print(classification_report(l_targets, l_preds, labels=labels, digits=3))"
   ]
  },
  {
   "cell_type": "markdown",
   "id": "dc9add7e",
   "metadata": {},
   "source": [
    "# Submit "
   ]
  },
  {
   "cell_type": "code",
   "execution_count": 38,
   "id": "f93c0241",
   "metadata": {},
   "outputs": [],
   "source": [
    "# train model using all data\n",
    "submit_dataset = BertDataset(data_all_train, tokenizer, max_length=max_length, training=True) \n",
    "submit_dataloader = DataLoader(dataset=submit_dataset, shuffle=True, batch_size=batch_size)"
   ]
  },
  {
   "cell_type": "code",
   "execution_count": 39,
   "id": "17fe9441",
   "metadata": {},
   "outputs": [
    {
     "name": "stderr",
     "output_type": "stream",
     "text": [
      "Some weights of the model checkpoint at distilbert-base-uncased were not used when initializing DistilBertModel: ['vocab_layer_norm.bias', 'vocab_projector.weight', 'vocab_transform.weight', 'vocab_projector.bias', 'vocab_transform.bias', 'vocab_layer_norm.weight']\n",
      "- This IS expected if you are initializing DistilBertModel from the checkpoint of a model trained on another task or with another architecture (e.g. initializing a BertForSequenceClassification model from a BertForPreTraining model).\n",
      "- This IS NOT expected if you are initializing DistilBertModel from the checkpoint of a model that you expect to be exactly identical (initializing a BertForSequenceClassification model from a BertForSequenceClassification model).\n"
     ]
    }
   ],
   "source": [
    "model = BERT()\n",
    "loss_fn = nn.CrossEntropyLoss()\n",
    "# loss_fn = focal_loss(alpha=alpha, reduction=\"sum\") # default (gamma = 2.0), gamma=0.5,\n",
    "optimizer = optim.AdamW(model.parameters())"
   ]
  },
  {
   "cell_type": "code",
   "execution_count": 43,
   "id": "b5f1da39",
   "metadata": {},
   "outputs": [],
   "source": [
    "# if we don't want to re-train bert parameters (we want to train only the last layer)\n",
    "for param in model.bert.parameters():\n",
    "    param.requires_grad = False\n",
    "\n",
    "for param in model.bert.transformer.layer[5].ffn.parameters():\n",
    "    param.requires_grad = True\n",
    "# print(model.bert.pooler.parameters())"
   ]
  },
  {
   "cell_type": "code",
   "execution_count": 44,
   "id": "61f32ca6",
   "metadata": {},
   "outputs": [],
   "source": [
    "# This function is for training loop\n",
    "def train_submit_model(epochs, dataloader, model, loss_fn, optimizer):\n",
    "    # If you can use GPU, set up GPU. Otherwise, use CPU\n",
    "    device = torch.device(\"cuda:0\" if torch.cuda.is_available() else \"cpu\")\n",
    "    model.to(device)\n",
    "    model.train()\n",
    "\n",
    "    for epoch in range(epochs):\n",
    "        print(\"Epoch {}/{}\".format(epoch+1, epochs))\n",
    "        print(\"-----------------------------------\")\n",
    "        for ids, mask, target in tqdm(dataloader):\n",
    "            # We need to reshape data here, I dont know why\n",
    "            ids = torch.reshape(ids, (ids.shape[0], ids.shape[2]))\n",
    "            mask = torch.reshape(mask, (mask.shape[0], mask.shape[2]))\n",
    "            \n",
    "            # send data to GPU\n",
    "            ids = ids.to(device)\n",
    "            mask = mask.to(device)\n",
    "            target = target.to(device)\n",
    "            \n",
    "            # train and backforward\n",
    "            optimizer.zero_grad()\n",
    "            output = model(ids=ids, mask=mask)\n",
    "            loss = loss_fn(output, target) \n",
    "            loss.backward()\n",
    "            optimizer.step()\n",
    "       \n",
    "    return model"
   ]
  },
  {
   "cell_type": "code",
   "execution_count": 45,
   "id": "2dd178d9",
   "metadata": {},
   "outputs": [
    {
     "name": "stdout",
     "output_type": "stream",
     "text": [
      "Epoch 1/20\n",
      "-----------------------------------\n"
     ]
    },
    {
     "name": "stderr",
     "output_type": "stream",
     "text": [
      "100%|███████████████████████████████████████████████████████████████████████████████████| 16/16 [00:31<00:00,  1.94s/it]\n"
     ]
    },
    {
     "name": "stdout",
     "output_type": "stream",
     "text": [
      "Epoch 2/20\n",
      "-----------------------------------\n"
     ]
    },
    {
     "name": "stderr",
     "output_type": "stream",
     "text": [
      "100%|███████████████████████████████████████████████████████████████████████████████████| 16/16 [00:34<00:00,  2.13s/it]\n"
     ]
    },
    {
     "name": "stdout",
     "output_type": "stream",
     "text": [
      "Epoch 3/20\n",
      "-----------------------------------\n"
     ]
    },
    {
     "name": "stderr",
     "output_type": "stream",
     "text": [
      "100%|███████████████████████████████████████████████████████████████████████████████████| 16/16 [00:34<00:00,  2.13s/it]\n"
     ]
    },
    {
     "name": "stdout",
     "output_type": "stream",
     "text": [
      "Epoch 4/20\n",
      "-----------------------------------\n"
     ]
    },
    {
     "name": "stderr",
     "output_type": "stream",
     "text": [
      "100%|███████████████████████████████████████████████████████████████████████████████████| 16/16 [00:34<00:00,  2.13s/it]\n"
     ]
    },
    {
     "name": "stdout",
     "output_type": "stream",
     "text": [
      "Epoch 5/20\n",
      "-----------------------------------\n"
     ]
    },
    {
     "name": "stderr",
     "output_type": "stream",
     "text": [
      "100%|███████████████████████████████████████████████████████████████████████████████████| 16/16 [00:34<00:00,  2.13s/it]\n"
     ]
    },
    {
     "name": "stdout",
     "output_type": "stream",
     "text": [
      "Epoch 6/20\n",
      "-----------------------------------\n"
     ]
    },
    {
     "name": "stderr",
     "output_type": "stream",
     "text": [
      "100%|███████████████████████████████████████████████████████████████████████████████████| 16/16 [00:34<00:00,  2.13s/it]\n"
     ]
    },
    {
     "name": "stdout",
     "output_type": "stream",
     "text": [
      "Epoch 7/20\n",
      "-----------------------------------\n"
     ]
    },
    {
     "name": "stderr",
     "output_type": "stream",
     "text": [
      "100%|███████████████████████████████████████████████████████████████████████████████████| 16/16 [00:34<00:00,  2.13s/it]\n"
     ]
    },
    {
     "name": "stdout",
     "output_type": "stream",
     "text": [
      "Epoch 8/20\n",
      "-----------------------------------\n"
     ]
    },
    {
     "name": "stderr",
     "output_type": "stream",
     "text": [
      "100%|███████████████████████████████████████████████████████████████████████████████████| 16/16 [00:34<00:00,  2.13s/it]\n"
     ]
    },
    {
     "name": "stdout",
     "output_type": "stream",
     "text": [
      "Epoch 9/20\n",
      "-----------------------------------\n"
     ]
    },
    {
     "name": "stderr",
     "output_type": "stream",
     "text": [
      "100%|███████████████████████████████████████████████████████████████████████████████████| 16/16 [00:34<00:00,  2.13s/it]\n"
     ]
    },
    {
     "name": "stdout",
     "output_type": "stream",
     "text": [
      "Epoch 10/20\n",
      "-----------------------------------\n"
     ]
    },
    {
     "name": "stderr",
     "output_type": "stream",
     "text": [
      "100%|███████████████████████████████████████████████████████████████████████████████████| 16/16 [00:34<00:00,  2.13s/it]\n"
     ]
    },
    {
     "name": "stdout",
     "output_type": "stream",
     "text": [
      "Epoch 11/20\n",
      "-----------------------------------\n"
     ]
    },
    {
     "name": "stderr",
     "output_type": "stream",
     "text": [
      "100%|███████████████████████████████████████████████████████████████████████████████████| 16/16 [00:34<00:00,  2.13s/it]\n"
     ]
    },
    {
     "name": "stdout",
     "output_type": "stream",
     "text": [
      "Epoch 12/20\n",
      "-----------------------------------\n"
     ]
    },
    {
     "name": "stderr",
     "output_type": "stream",
     "text": [
      "100%|███████████████████████████████████████████████████████████████████████████████████| 16/16 [00:34<00:00,  2.13s/it]\n"
     ]
    },
    {
     "name": "stdout",
     "output_type": "stream",
     "text": [
      "Epoch 13/20\n",
      "-----------------------------------\n"
     ]
    },
    {
     "name": "stderr",
     "output_type": "stream",
     "text": [
      "100%|███████████████████████████████████████████████████████████████████████████████████| 16/16 [00:34<00:00,  2.13s/it]\n"
     ]
    },
    {
     "name": "stdout",
     "output_type": "stream",
     "text": [
      "Epoch 14/20\n",
      "-----------------------------------\n"
     ]
    },
    {
     "name": "stderr",
     "output_type": "stream",
     "text": [
      "100%|███████████████████████████████████████████████████████████████████████████████████| 16/16 [00:34<00:00,  2.13s/it]\n"
     ]
    },
    {
     "name": "stdout",
     "output_type": "stream",
     "text": [
      "Epoch 15/20\n",
      "-----------------------------------\n"
     ]
    },
    {
     "name": "stderr",
     "output_type": "stream",
     "text": [
      "100%|███████████████████████████████████████████████████████████████████████████████████| 16/16 [00:34<00:00,  2.13s/it]\n"
     ]
    },
    {
     "name": "stdout",
     "output_type": "stream",
     "text": [
      "Epoch 16/20\n",
      "-----------------------------------\n"
     ]
    },
    {
     "name": "stderr",
     "output_type": "stream",
     "text": [
      "100%|███████████████████████████████████████████████████████████████████████████████████| 16/16 [00:34<00:00,  2.13s/it]\n"
     ]
    },
    {
     "name": "stdout",
     "output_type": "stream",
     "text": [
      "Epoch 17/20\n",
      "-----------------------------------\n"
     ]
    },
    {
     "name": "stderr",
     "output_type": "stream",
     "text": [
      "100%|███████████████████████████████████████████████████████████████████████████████████| 16/16 [00:34<00:00,  2.13s/it]\n"
     ]
    },
    {
     "name": "stdout",
     "output_type": "stream",
     "text": [
      "Epoch 18/20\n",
      "-----------------------------------\n"
     ]
    },
    {
     "name": "stderr",
     "output_type": "stream",
     "text": [
      "100%|███████████████████████████████████████████████████████████████████████████████████| 16/16 [00:34<00:00,  2.13s/it]\n"
     ]
    },
    {
     "name": "stdout",
     "output_type": "stream",
     "text": [
      "Epoch 19/20\n",
      "-----------------------------------\n"
     ]
    },
    {
     "name": "stderr",
     "output_type": "stream",
     "text": [
      "100%|███████████████████████████████████████████████████████████████████████████████████| 16/16 [00:34<00:00,  2.13s/it]\n"
     ]
    },
    {
     "name": "stdout",
     "output_type": "stream",
     "text": [
      "Epoch 20/20\n",
      "-----------------------------------\n"
     ]
    },
    {
     "name": "stderr",
     "output_type": "stream",
     "text": [
      "100%|███████████████████████████████████████████████████████████████████████████████████| 16/16 [00:34<00:00,  2.13s/it]\n"
     ]
    }
   ],
   "source": [
    "model = train_submit_model(epochs, submit_dataloader, model, loss_fn, optimizer)"
   ]
  },
  {
   "cell_type": "code",
   "execution_count": 46,
   "id": "fbf5f6ea",
   "metadata": {},
   "outputs": [],
   "source": [
    "torch.save(model.state_dict(), './results/distilbert_epoch_20_.pth')"
   ]
  },
  {
   "cell_type": "code",
   "execution_count": 47,
   "id": "a12666ec",
   "metadata": {},
   "outputs": [],
   "source": [
    "test_dataset = BertDataset(data_test, tokenizer, max_length=max_length, training=False) \n",
    "test_dataloader = DataLoader(dataset=test_dataset, shuffle=True, batch_size=batch_size)"
   ]
  },
  {
   "cell_type": "code",
   "execution_count": 48,
   "id": "bef1e0e1",
   "metadata": {},
   "outputs": [],
   "source": [
    "def prediction(model, dataloader):\n",
    "    device = torch.device(\"cuda:0\" if torch.cuda.is_available() else \"cpu\")\n",
    "    model.to(device)\n",
    "    model.eval()\n",
    "    \n",
    "    preds = []\n",
    "    with torch.no_grad():\n",
    "        for ids, mask in tqdm(dataloader):\n",
    "            ids = torch.reshape(ids, (ids.shape[0], ids.shape[2]))\n",
    "            mask = torch.reshape(mask, (mask.shape[0], mask.shape[2]))\n",
    "            \n",
    "            ids = ids.to(device)\n",
    "            mask = mask.to(device)\n",
    "            \n",
    "            output = model(ids=ids, mask=mask)\n",
    "            \n",
    "            pred = torch.argmax(output.cpu(), dim=-1)\n",
    "            preds.extend(pred.numpy())\n",
    "            \n",
    "    return preds"
   ]
  },
  {
   "cell_type": "code",
   "execution_count": 49,
   "id": "530da5bb",
   "metadata": {},
   "outputs": [
    {
     "name": "stderr",
     "output_type": "stream",
     "text": [
      "100%|███████████████████████████████████████████████████████████████████████████████████| 12/12 [00:23<00:00,  1.95s/it]\n"
     ]
    }
   ],
   "source": [
    "pred_sub = prediction(model, test_dataloader)\n",
    "pred_sub = list(map(lambda x: x + 1, pred_sub))"
   ]
  },
  {
   "cell_type": "code",
   "execution_count": 50,
   "id": "b964147f",
   "metadata": {},
   "outputs": [],
   "source": [
    "sample_submit_df = pd.DataFrame(list(zip(list(test['id'].values), pred_sub)), columns=[\"id\", \"pred\"])\n",
    "sample_submit_df.to_csv('../ensemble/distilbert/test.csv', header=None, index=None)"
   ]
  },
  {
   "cell_type": "code",
   "execution_count": null,
   "id": "c6da8754",
   "metadata": {},
   "outputs": [],
   "source": []
  }
 ],
 "metadata": {
  "kernelspec": {
   "display_name": "Python 3 (ipykernel)",
   "language": "python",
   "name": "python3"
  },
  "language_info": {
   "codemirror_mode": {
    "name": "ipython",
    "version": 3
   },
   "file_extension": ".py",
   "mimetype": "text/x-python",
   "name": "python",
   "nbconvert_exporter": "python",
   "pygments_lexer": "ipython3",
   "version": "3.7.13"
  }
 },
 "nbformat": 4,
 "nbformat_minor": 5
}
